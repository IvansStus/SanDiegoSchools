{
 "cells": [
  {
   "cell_type": "markdown",
   "metadata": {},
   "source": [
    "# Integrating San Diego Schools Data Sources Together"
   ]
  },
  {
   "cell_type": "code",
   "execution_count": 132,
   "metadata": {
    "collapsed": true
   },
   "outputs": [],
   "source": [
    "import pandas as pd\n",
    "import numpy as np"
   ]
  },
  {
   "cell_type": "code",
   "execution_count": 133,
   "metadata": {
    "collapsed": true
   },
   "outputs": [],
   "source": [
    "# Hackathon provided data\n",
    "VOSD = pd.read_csv('../HackathonData/VOSD San Diego County Schools Dataset 2017.csv')\n",
    "ELA = pd.read_csv('../HackathonData/ELA 2017 SD County Scale Scores gr 3,8,11.csv')\n",
    "MATH = pd.read_csv('../HackathonData/MATH 2017 SD County Scale Scores gr 3,8,11.csv')\n",
    "\n",
    "# Great Schools Data\n",
    "school_search = pd.read_csv('./school_search_1.csv')\n",
    "city_overview = pd.read_csv('./city_overview.csv')\n",
    "school_census = pd.read_csv('./school_census_data.csv')\n",
    "test_scores = pd.read_csv('./test_scores.csv')"
   ]
  },
  {
   "cell_type": "markdown",
   "metadata": {},
   "source": [
    "### Generate a VOSD to Great Schools mapping dictionary"
   ]
  },
  {
   "cell_type": "code",
   "execution_count": 139,
   "metadata": {
    "scrolled": true
   },
   "outputs": [],
   "source": [
    "mapping = pd.merge(VOSD, school_search, left_on='Phone', right_on='phone', how='left')\n",
    "mapping = mapping[['School', 'Phone', 'name', 'gsid', 'phone']]\n",
    "# mapping.to_csv('./VOSD_GreatSchools_mapping_inputted.csv', index=False)"
   ]
  },
  {
   "cell_type": "markdown",
   "metadata": {},
   "source": [
    "Manual examination and quality assurance allowed mapping between VOSD index and gsid."
   ]
  },
  {
   "cell_type": "code",
   "execution_count": 201,
   "metadata": {},
   "outputs": [
    {
     "name": "stdout",
     "output_type": "stream",
     "text": [
      "Number of schools:  695\n"
     ]
    }
   ],
   "source": [
    "VOSD_sorted = VOSD.sort_values(['School'], ascending=True)\n",
    "print 'Number of schools: ', VOSD_sorted.shape[0]\n",
    "mapped = pd.read_csv('./VOSD_GreatSchools_mapping_inputted.csv')"
   ]
  },
  {
   "cell_type": "code",
   "execution_count": 203,
   "metadata": {},
   "outputs": [],
   "source": [
    "VOSD_index_to_gsid = dict(zip(list(VOSD_sorted.index), list(mapped['gsid'])))\n",
    "VOSD['primary_key'] = VOSD.index\n",
    "VOSD['gsid'] = VOSD_index_to_gsid.values()"
   ]
  },
  {
   "cell_type": "code",
   "execution_count": 200,
   "metadata": {},
   "outputs": [],
   "source": [
    "VOSD.to_csv('./VOSD San Diego County Schools Dataset 2017 mapped.csv', index=False)"
   ]
  },
  {
   "cell_type": "code",
   "execution_count": null,
   "metadata": {
    "collapsed": true
   },
   "outputs": [],
   "source": []
  }
 ],
 "metadata": {
  "kernelspec": {
   "display_name": "Python [conda env:py27]",
   "language": "python",
   "name": "conda-env-py27-py"
  },
  "language_info": {
   "codemirror_mode": {
    "name": "ipython",
    "version": 2
   },
   "file_extension": ".py",
   "mimetype": "text/x-python",
   "name": "python",
   "nbconvert_exporter": "python",
   "pygments_lexer": "ipython2",
   "version": "2.7.13"
  }
 },
 "nbformat": 4,
 "nbformat_minor": 1
}
