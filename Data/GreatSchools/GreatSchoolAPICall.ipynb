{
 "cells": [
  {
   "cell_type": "markdown",
   "metadata": {},
   "source": [
    "# Great Schools API Call\n",
    "https://www.greatschools.org/"
   ]
  },
  {
   "cell_type": "code",
   "execution_count": 567,
   "metadata": {
    "collapsed": true
   },
   "outputs": [],
   "source": [
    "import requests\n",
    "from bs4 import BeautifulSoup\n",
    "import pandas as pd"
   ]
  },
  {
   "cell_type": "code",
   "execution_count": 566,
   "metadata": {
    "collapsed": true
   },
   "outputs": [],
   "source": [
    "api_key = ''"
   ]
  },
  {
   "cell_type": "code",
   "execution_count": 522,
   "metadata": {},
   "outputs": [
    {
     "name": "stdout",
     "output_type": "stream",
     "text": [
      "C:\\Users\\Orysya\\Desktop\\Biocom_Hackathon_09.30.2017_10.08.2017\\Data\\GreatSchools\\second_pull\n"
     ]
    }
   ],
   "source": [
    "# !mkdir second_pull\n",
    "# %cd second_pull"
   ]
  },
  {
   "cell_type": "markdown",
   "metadata": {},
   "source": [
    "### Method: School Search\n",
    "Documentation: https://www.greatschools.org/api/docs/schoolSearch.page\n",
    "\n",
    "    ie. https://api.greatschools.org/search/schools?key=[yourAPIKey]&state=CA&q=Alameda\n",
    "    Searches for schools using the query string \"Alameda\" in California"
   ]
  },
  {
   "cell_type": "code",
   "execution_count": 540,
   "metadata": {},
   "outputs": [
    {
     "name": "stdout",
     "output_type": "stream",
     "text": [
      "Number of unique schools included in SD County Schools Dataset:  684\n"
     ]
    }
   ],
   "source": [
    "print 'Number of unique schools included in SD County Schools Dataset: ', SD_County_Schools['School'].nunique()\n",
    "schools = list(SD_County_Schools['School'].unique())"
   ]
  },
  {
   "cell_type": "code",
   "execution_count": 541,
   "metadata": {
    "collapsed": true
   },
   "outputs": [],
   "source": [
    "schools_dict = {'gsid':list(), 'name':list(), 'type':list(), 'graderange':list(), 'enrollment':list(), \n",
    "                'gsrating':list(), 'city':list(), 'state':list(), 'districtid':list(), 'district':list(), \n",
    "                'districtncesid':list(), 'address':list(), 'phone':list(), 'fax':list(), 'website':list(), \n",
    "                'ncesid':list(), 'lat':list(), 'lon':list(), 'overviewlink':list(), 'ratingslink':list(), \n",
    "                'reviewslink':list(), 'schoolstatslink':list()}  \n",
    "\n",
    "for school in schools:\n",
    "    URL = 'https://api.greatschools.org/search/schools?key='+ api_key + '&state=CA&q='+school+ '&limit=1'\n",
    "    request = requests.get(URL)\n",
    "    response = BeautifulSoup(request.content, 'html.parser')\n",
    "    \n",
    "    content = response.schools.contents\n",
    "    for key in schools_dict.keys():\n",
    "        for i in range(len(content)):\n",
    "            try:\n",
    "                schools_dict.get(key).append(content[i].find(key).text)\n",
    "            except:\n",
    "                schools_dict.get(key).append(None)"
   ]
  },
  {
   "cell_type": "code",
   "execution_count": 544,
   "metadata": {},
   "outputs": [
    {
     "name": "stdout",
     "output_type": "stream",
     "text": [
      "Prior to dropping duplicates, the data shape is:  (658, 22)\n",
      "After dropping duplicates, the data shape is:  (656, 22)\n"
     ]
    }
   ],
   "source": [
    "school_search = pd.DataFrame.from_dict(schools_dict, orient='columns')\n",
    "print 'Prior to dropping duplicates, the data shape is: ', school_search.shape\n",
    "school_search = school_search.drop_duplicates()\n",
    "print 'After dropping duplicates, the data shape is: ', school_search.shape"
   ]
  },
  {
   "cell_type": "code",
   "execution_count": 545,
   "metadata": {
    "collapsed": true
   },
   "outputs": [],
   "source": [
    "school_search.to_csv('school_search_1.csv', encoding='utf-8', index=False)"
   ]
  },
  {
   "cell_type": "markdown",
   "metadata": {},
   "source": [
    "### Method: School Profile\n",
    "Documentation: https://www.greatschools.org/api/docs/schoolProfile.page\n",
    "\n",
    "    ie. https://api.greatschools.org/schools/CA/1?key=[yourkey]\n",
    "    Returns school profile for school in California with GreatSchools ID of 1"
   ]
  },
  {
   "cell_type": "code",
   "execution_count": 588,
   "metadata": {},
   "outputs": [
    {
     "name": "stdout",
     "output_type": "stream",
     "text": [
      "Number of schools:  695\n"
     ]
    }
   ],
   "source": [
    "VOSD = pd.read_csv('../VOSD San Diego County Schools Dataset 2017 mapped.csv')\n",
    "VOSD['gsid'] = VOSD['gsid'].fillna(0).astype(int).astype(str)\n",
    "gsids = list(VOSD['gsid'])\n",
    "print 'Number of schools: ', len(gsids)"
   ]
  },
  {
   "cell_type": "code",
   "execution_count": 589,
   "metadata": {
    "collapsed": true
   },
   "outputs": [],
   "source": [
    "school_profile = []\n",
    "for gsid in gsids:\n",
    "    URL = 'https://api.greatschools.org/schools/CA/'+ gsid +'?key='+ api_key\n",
    "    request = requests.get(URL)\n",
    "    response = BeautifulSoup(request.content, 'html.parser')\n",
    "    school_profile.append(response)"
   ]
  },
  {
   "cell_type": "code",
   "execution_count": 592,
   "metadata": {
    "collapsed": true
   },
   "outputs": [],
   "source": [
    "profile_dict = {'gsid':list(), 'name':list(), 'type':list(), 'graderange':list(), 'enrollment':list(), \n",
    "                'gsrating':list(), 'city':list(), 'state':list(), 'districtid':list(), 'district':list(), \n",
    "                'districtncesid':list(), 'address':list(), 'phone':list(), 'fax':list(), 'website':list(), \n",
    "                'ncesid':list(), 'lat':list(), 'lon':list(), 'overviewlink':list(), 'ratingslink':list(), \n",
    "                'reviewslink':list(), 'schoolstatslink':list()}  \n",
    "\n",
    "for r in range(len(school_profile)):\n",
    "    response = school_profile[r]\n",
    "    \n",
    "    content = response.school\n",
    "    for key in profile_dict.keys():\n",
    "        try:\n",
    "            profile_dict.get(key).append(content.find(key).text)\n",
    "        except:\n",
    "            profile_dict.get(key).append(None)"
   ]
  },
  {
   "cell_type": "code",
   "execution_count": 609,
   "metadata": {},
   "outputs": [
    {
     "name": "stdout",
     "output_type": "stream",
     "text": [
      "The data shape is:  (686, 22)\n"
     ]
    }
   ],
   "source": [
    "school_profiles_data = pd.DataFrame.from_dict(profile_dict, orient='columns')\n",
    "school_profiles_data = school_profiles_data.dropna(how='all')\n",
    "print 'The data shape is: ', school_profiles_data.shape"
   ]
  },
  {
   "cell_type": "code",
   "execution_count": 610,
   "metadata": {
    "collapsed": true
   },
   "outputs": [],
   "source": [
    "school_profiles_data.to_csv('school_profiles.csv', encoding='utf-8', index=False)"
   ]
  },
  {
   "cell_type": "markdown",
   "metadata": {},
   "source": [
    "### Method: City Overview\n",
    "Documentation: https://www.greatschools.org/api/docs/city-overview/\n",
    "\n",
    "    ie. https://api.greatschools.org/cities/CA/San-Francisco?key=[yourAPIKey]\n",
    "    Returns city information for San Francisco, CA"
   ]
  },
  {
   "cell_type": "code",
   "execution_count": null,
   "metadata": {
    "collapsed": true
   },
   "outputs": [],
   "source": [
    "SD_County_Schools = pd.read_csv('../VOSD San Diego County Schools Dataset 2017.csv')\n",
    "print 'Number of unique cities included in SD County Schools Dataset: ', SD_County_Schools['City'].nunique()\n",
    "cities = list(SD_County_Schools['City'].unique())"
   ]
  },
  {
   "cell_type": "code",
   "execution_count": 304,
   "metadata": {
    "collapsed": true
   },
   "outputs": [],
   "source": [
    "city_overview_dict = {'name':list(), 'rating':list(), 'totalschools':list(), 'elementaryschools':list(), \n",
    "                      'middleschools':list(), 'highschools':list(), 'publicschools':list(), 'charterschools':list(), \n",
    "                      'privateschools':list()}\n",
    "\n",
    "for city in cities:\n",
    "    URL = 'https://api.greatschools.org/cities/CA/'+ city +'?key='+ api_key\n",
    "    request = requests.get(URL)\n",
    "    response = BeautifulSoup(request.content, 'html.parser')\n",
    "\n",
    "    for key in city_overview_dict.keys():\n",
    "        try:\n",
    "            city_overview_dict.get(key).append(response.find(key).text)\n",
    "        except:\n",
    "            city_overview_dict.get(key).append(None)"
   ]
  },
  {
   "cell_type": "code",
   "execution_count": 307,
   "metadata": {},
   "outputs": [
    {
     "name": "stdout",
     "output_type": "stream",
     "text": [
      "The shape of the data is:  (45, 9)\n"
     ]
    }
   ],
   "source": [
    "city_overview = pd.DataFrame.from_dict(city_overview_dict, orient='columns')\n",
    "print 'The shape of the data is: ', city_overview.shape"
   ]
  },
  {
   "cell_type": "code",
   "execution_count": null,
   "metadata": {
    "collapsed": true
   },
   "outputs": [],
   "source": [
    "city_overview.to_csv('city_overview.csv', encoding='utf-8', index=False)"
   ]
  },
  {
   "cell_type": "markdown",
   "metadata": {},
   "source": [
    "### Method: School Census Data\n",
    "Documentation: https://www.greatschools.org/api/docs/schoolCensusData.page\n",
    "\n",
    "    ie. https://api.greatschools.org/school/census/ND/20?key=[yourkey]\n",
    "    Returns census and profile data for school in North Dakota with GreatSchools ID of 20"
   ]
  },
  {
   "cell_type": "code",
   "execution_count": 611,
   "metadata": {
    "collapsed": true,
    "scrolled": true
   },
   "outputs": [],
   "source": [
    "school_census_data_responses = []\n",
    "count = 1\n",
    "for gsid in gsids:\n",
    "    URL = 'https://api.greatschools.org/school/census/CA/'+ gsid + '?key=' + api_key\n",
    "    request = requests.get(URL)\n",
    "    response = BeautifulSoup(request.content, 'html.parser')\n",
    "    school_census_data_responses.append(response)\n",
    "#     print count\n",
    "#     count += 1"
   ]
  },
  {
   "cell_type": "code",
   "execution_count": 663,
   "metadata": {
    "collapsed": true
   },
   "outputs": [],
   "source": [
    "census_dict_1 = {'gsid':list(), 'headofficialname':list(), 'headofficialemail':list(), 'freeandreducedpricelunch':list()}\n",
    "census_dict_2 = {'year':list(), 'Asian':list(), 'Native American or Native Alaskan':list(), 'Pacific Islander':list(), \n",
    "               'Hispanic':list(), 'Black, non-Hispanic':list(), 'Multiracial':list(), 'Filipino':list(), \n",
    "               'White, non-Hispanic':list()}\n",
    "\n",
    "for r in range(len(school_census_data_responses)):\n",
    "    response = school_census_data_responses[r]\n",
    "    \n",
    "    try:\n",
    "        content_1 = response.contents[1]\n",
    "        for key in census_dict_1.keys():\n",
    "            if key == 'gsid':\n",
    "                census_dict_1.get(key).append(gsids[r])\n",
    "            else:\n",
    "                try:\n",
    "                    census_dict_1.get(key).append(content_1.find(key).text)\n",
    "                except:\n",
    "                    census_dict_1.get(key).append(None)\n",
    "\n",
    "        ethnicity = response.ethnicities.find_all('name')\n",
    "        ethnicity = [e.text for e in ethnicity]\n",
    "        value = response.ethnicities.find_all('value')\n",
    "        for k in census_dict_2.keys():\n",
    "            try:\n",
    "                if k == 'year':\n",
    "                    census_dict_2.get(k).append(response.find('year').text)\n",
    "                else:\n",
    "                    census_dict_2.get(k).append(value[ethnicity.index(k)].text)\n",
    "            except:\n",
    "                census_dict_2.get(k).append(None)\n",
    "    except:\n",
    "        pass"
   ]
  },
  {
   "cell_type": "code",
   "execution_count": 664,
   "metadata": {},
   "outputs": [
    {
     "name": "stdout",
     "output_type": "stream",
     "text": [
      "The data shape is:  (688, 13)\n"
     ]
    }
   ],
   "source": [
    "census_1 = pd.DataFrame.from_dict(census_dict_1, orient='columns')\n",
    "census_2 = pd.DataFrame.from_dict(census_dict_2, orient='columns')\n",
    "school_census_data = pd.concat([census_1, census_2], axis=1)\n",
    "school_census_data = school_census_data.dropna(how='all')\n",
    "print 'The data shape is: ', school_census_data.shape"
   ]
  },
  {
   "cell_type": "code",
   "execution_count": 665,
   "metadata": {
    "collapsed": true
   },
   "outputs": [],
   "source": [
    "school_census_data.to_csv('school_census_data.csv', encoding='utf-8', index=False)"
   ]
  },
  {
   "cell_type": "markdown",
   "metadata": {},
   "source": [
    "### Method: School Test Scores\n",
    "Documentation: https://www.greatschools.org/api/docs/school-test-scores/\n",
    "\n",
    "    ie. https://api.greatschools.org/school/tests/CA/1?key=[yourkey]\n",
    "    Returns test scores for school in California with GreatSchools ID of 1"
   ]
  },
  {
   "cell_type": "code",
   "execution_count": 641,
   "metadata": {
    "collapsed": true,
    "scrolled": true
   },
   "outputs": [],
   "source": [
    "test_score_responses = []\n",
    "count = 1\n",
    "for gsid in gsids:\n",
    "    URL = 'https://api.greatschools.org/school/tests/CA/'+ gsid + '?key=' + api_key\n",
    "    request = requests.get(URL)\n",
    "    response = BeautifulSoup(request.content, 'html.parser')\n",
    "    test_score_responses.append(response)\n",
    "#     print count\n",
    "#     count += 1"
   ]
  },
  {
   "cell_type": "code",
   "execution_count": 648,
   "metadata": {
    "collapsed": true
   },
   "outputs": [],
   "source": [
    "ts_dict_1 = {'gsid':list(), 'name':list(), 'rating':list(), 'id':list(), 'description':list(), 'abbreviation':list(), \n",
    "             'scale':list(), 'levelcode':list()}\n",
    "ts_dict_2 = {'breakdownname':list(), 'gradename':list(), 'levelcodename':list(), 'numbertested':list(), \n",
    "             'proficiencybandname':list(), 'score':list(), 'subjectname':list(), 'testid':list(), 'year':list()}\n",
    "\n",
    "for g in range(len(test_score_responses)):\n",
    "    content = test_score_response.find_all('test')\n",
    "    for c in range(len(content)):    \n",
    "        results = content[c].find_all('testresult')\n",
    "        for r in range(len(results)):\n",
    "            for key in ts_dict_2.keys():\n",
    "                try:\n",
    "                    ts_dict_2.get(key).append(results[r].find(key).text)\n",
    "                except:\n",
    "                    ts_dict_2.get(key).append(None)\n",
    "        for k in ts_dict_1.keys():\n",
    "            if k == 'gsid':\n",
    "                ts_dict_1.get(k).extend([gsids[g]]*len(results))\n",
    "            else:\n",
    "                try:\n",
    "                    ts_dict_1.get(k).extend([content[c].find(k).text]*len(results))\n",
    "                except:\n",
    "                    ts_dict_1.get(k).extend([None]*len(results))"
   ]
  },
  {
   "cell_type": "code",
   "execution_count": 649,
   "metadata": {},
   "outputs": [
    {
     "name": "stdout",
     "output_type": "stream",
     "text": [
      "The shape of the data is:  (9035, 17)\n"
     ]
    }
   ],
   "source": [
    "ts_1 = pd.DataFrame.from_dict(ts_dict_1, orient='columns')\n",
    "ts_2 = pd.DataFrame.from_dict(ts_dict_2, orient='columns')\n",
    "test_scores = pd.concat([ts_1, ts_2], axis=1)\n",
    "test_scores = test_scores.dropna(how='all')\n",
    "print 'The shape of the data is: ', test_scores.shape"
   ]
  },
  {
   "cell_type": "code",
   "execution_count": 650,
   "metadata": {
    "collapsed": true
   },
   "outputs": [],
   "source": [
    "test_scores.to_csv('test_scores.csv', encoding='utf-8', index=False)"
   ]
  },
  {
   "cell_type": "code",
   "execution_count": null,
   "metadata": {
    "collapsed": true
   },
   "outputs": [],
   "source": []
  }
 ],
 "metadata": {
  "anaconda-cloud": {},
  "kernelspec": {
   "display_name": "Python [conda env:py27]",
   "language": "python",
   "name": "conda-env-py27-py"
  },
  "language_info": {
   "codemirror_mode": {
    "name": "ipython",
    "version": 2
   },
   "file_extension": ".py",
   "mimetype": "text/x-python",
   "name": "python",
   "nbconvert_exporter": "python",
   "pygments_lexer": "ipython2",
   "version": "2.7.13"
  }
 },
 "nbformat": 4,
 "nbformat_minor": 1
}
