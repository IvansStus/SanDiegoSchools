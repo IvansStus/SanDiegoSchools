{
 "cells": [
  {
   "cell_type": "markdown",
   "metadata": {},
   "source": [
    "# Great Schools API Call\n",
    "https://www.greatschools.org/"
   ]
  },
  {
   "cell_type": "code",
   "execution_count": 1,
   "metadata": {},
   "outputs": [],
   "source": [
    "import requests\n",
    "from bs4 import BeautifulSoup\n",
    "import pandas as pd"
   ]
  },
  {
   "cell_type": "code",
   "execution_count": 2,
   "metadata": {
    "collapsed": true
   },
   "outputs": [],
   "source": [
    "api_key = ''"
   ]
  },
  {
   "cell_type": "markdown",
   "metadata": {},
   "source": [
    "### Method: School Search\n",
    "Documentation: https://www.greatschools.org/api/docs/schoolSearch.page\n",
    "\n",
    "    ie. https://api.greatschools.org/search/schools?key=[yourAPIKey]&state=CA&q=Alameda\n",
    "    Searches for schools using the query string \"Alameda\" in California"
   ]
  },
  {
   "cell_type": "code",
   "execution_count": 34,
   "metadata": {},
   "outputs": [
    {
     "name": "stdout",
     "output_type": "stream",
     "text": [
      "Number of unique cities included in SD County Schools Dataset:  45\n"
     ]
    }
   ],
   "source": [
    "SD_County_Schools = pd.read_csv('./VOSD San Diego County Schools Dataset 2017.csv')\n",
    "print 'Number of unique cities included in SD County Schools Dataset: ', SD_County_Schools['City'].nunique()\n",
    "cities = list(SD_County_Schools['City'].unique())"
   ]
  },
  {
   "cell_type": "code",
   "execution_count": 35,
   "metadata": {},
   "outputs": [],
   "source": [
    "schools_dict = {'gsid':list(), 'name':list(), 'type':list(), 'graderange':list(), 'enrollment':list(), \n",
    "                'gsrating':list(), 'city':list(), 'state':list(), 'districtid':list(), 'district':list(), \n",
    "                'districtncesid':list(), 'address':list(), 'phone':list(), 'fax':list(), 'website':list(), \n",
    "                'ncesid':list(), 'lat':list(), 'lon':list(), 'overviewlink':list(), 'ratingslink':list(), \n",
    "                'reviewslink':list(), 'schoolstatslink':list()}  \n",
    "\n",
    "for city in cities:\n",
    "    URL = 'https://api.greatschools.org/search/schools?key='+ api_key + '&state=CA&q='+city+ '&limit=1000'\n",
    "    request = requests.get(URL)\n",
    "    response = BeautifulSoup(request.content, 'html.parser')\n",
    "    \n",
    "    content = response.schools.contents\n",
    "    for key in schools_dict.keys():\n",
    "        for i in range(len(content)):\n",
    "            try:\n",
    "                schools_dict.get(key).append(content[i].find(key).text)\n",
    "            except:\n",
    "                schools_dict.get(key).append(None)"
   ]
  },
  {
   "cell_type": "code",
   "execution_count": 53,
   "metadata": {},
   "outputs": [
    {
     "name": "stdout",
     "output_type": "stream",
     "text": [
      "Prior to dropping duplicates, the data shape is:  (1999, 22)\n",
      "After dropping duplicates, the data shape is:  (1717, 22)\n"
     ]
    }
   ],
   "source": [
    "school_search = pd.DataFrame.from_dict(schools_dict, orient='columns')\n",
    "print 'Prior to dropping duplicates, the data shape is: ', school_search.shape\n",
    "school_search = school_search.drop_duplicates()\n",
    "print 'After dropping duplicates, the data shape is: ', school_search.shape"
   ]
  },
  {
   "cell_type": "markdown",
   "metadata": {},
   "source": [
    "### Method: City Overview\n",
    "Documentation: https://www.greatschools.org/api/docs/city-overview/\n",
    "\n",
    "    ie. https://api.greatschools.org/cities/CA/San-Francisco?key=[yourAPIKey]\n",
    "    Returns city information for San Francisco, CA"
   ]
  },
  {
   "cell_type": "code",
   "execution_count": 304,
   "metadata": {
    "collapsed": true
   },
   "outputs": [],
   "source": [
    "city_overview_dict = {'name':list(), 'rating':list(), 'totalschools':list(), 'elementaryschools':list(), \n",
    "                      'middleschools':list(), 'highschools':list(), 'publicschools':list(), 'charterschools':list(), \n",
    "                      'privateschools':list()}\n",
    "\n",
    "for city in cities:\n",
    "    URL = 'https://api.greatschools.org/cities/CA/'+ city +'?key='+ api_key\n",
    "    request = requests.get(URL)\n",
    "    response = BeautifulSoup(request.content, 'html.parser')\n",
    "\n",
    "    for key in city_overview_dict.keys():\n",
    "        try:\n",
    "            city_overview_dict.get(key).append(response.find(key).text)\n",
    "        except:\n",
    "            city_overview_dict.get(key).append(None)"
   ]
  },
  {
   "cell_type": "code",
   "execution_count": 307,
   "metadata": {},
   "outputs": [
    {
     "name": "stdout",
     "output_type": "stream",
     "text": [
      "The shape of the data is:  (45, 9)\n"
     ]
    }
   ],
   "source": [
    "city_overview = pd.DataFrame.from_dict(city_overview_dict, orient='columns')\n",
    "print 'The shape of the data is: ', city_overview.shape"
   ]
  },
  {
   "cell_type": "markdown",
   "metadata": {},
   "source": [
    "### Method: School Profile\n",
    "Documentation: https://www.greatschools.org/api/docs/schoolProfile.page\n",
    "\n",
    "    ie. https://api.greatschools.org/schools/CA/1?key=[yourkey]\n",
    "    Returns school profile for school in California with GreatSchools ID of 1\n",
    "    \n",
    "This API method will not be used because the information is already included via the School Search method."
   ]
  },
  {
   "cell_type": "markdown",
   "metadata": {},
   "source": [
    "### Method: School Census Data\n",
    "Documentation: https://www.greatschools.org/api/docs/schoolCensusData.page\n",
    "\n",
    "    ie. https://api.greatschools.org/school/census/ND/20?key=[yourkey]\n",
    "    Returns census and profile data for school in North Dakota with GreatSchools ID of 20"
   ]
  },
  {
   "cell_type": "code",
   "execution_count": 499,
   "metadata": {
    "scrolled": true
   },
   "outputs": [],
   "source": [
    "gsids = list(school_search['gsid'].astype(str))\n",
    "print 'Number of schools searched: ', len(gsids)\n",
    "\n",
    "school_census_data_responses = []\n",
    "count = 1\n",
    "for gsid in gsids:\n",
    "    URL = 'https://api.greatschools.org/school/census/CA/'+ gsid + '?key=' + api_key\n",
    "    request = requests.get(URL)\n",
    "    response = BeautifulSoup(request.content, 'html.parser')\n",
    "    school_census_data_responses.append(response)\n",
    "#     print count\n",
    "#     count += 1"
   ]
  },
  {
   "cell_type": "code",
   "execution_count": 495,
   "metadata": {},
   "outputs": [],
   "source": [
    "census_dict_1 = {'gsid':list(), 'headofficialname':list(), 'headofficialemail':list(), 'freeandreducedpricelunch':list()}\n",
    "census_dict_2 = {'year':list(), 'Asian':list(), 'Native American or Native Alaskan':list(), 'Pacific Islander':list(), \n",
    "               'Hispanic':list(), 'Black, non-Hispanic':list(), 'Multiracial':list(), 'Filipino':list(), \n",
    "               'White, non-Hispanic':list()}\n",
    "\n",
    "for r in range(len(school_census_data_responses)):\n",
    "    response = school_census_data_responses[r]\n",
    "    \n",
    "    content_1 = response.contents[1]\n",
    "    for key in census_dict_1.keys():\n",
    "        if key == 'gsid':\n",
    "            census_dict_1.get(key).append(gsids[r])\n",
    "        else:\n",
    "            try:\n",
    "                census_dict_1.get(key).append(content_1.find(key).text)\n",
    "            except:\n",
    "                census_dict_1.get(key).append(None)\n",
    "               \n",
    "    ethnicity = response.ethnicities.find_all('name')\n",
    "    value = response.ethnicities.find_all('value')\n",
    "    for k in census_dict_2.keys():\n",
    "        try:\n",
    "            if k == 'year':\n",
    "                census_dict_2.get(k).append(response.find('year').text)\n",
    "            else:\n",
    "                census_dict_2.get(k).append(value[i].text)\n",
    "        except:\n",
    "            census_dict_2.get(k).append(None)"
   ]
  },
  {
   "cell_type": "code",
   "execution_count": 496,
   "metadata": {},
   "outputs": [
    {
     "name": "stdout",
     "output_type": "stream",
     "text": [
      "The data shape is:  (1717, 13)\n"
     ]
    }
   ],
   "source": [
    "census_1 = pd.DataFrame.from_dict(census_dict_1, orient='columns')\n",
    "census_2 = pd.DataFrame.from_dict(census_dict_2, orient='columns')\n",
    "school_census_data = pd.concat([census_1, census_2], axis=1)\n",
    "print 'The data shape is: ', school_census_data.shape"
   ]
  },
  {
   "cell_type": "markdown",
   "metadata": {},
   "source": [
    "### Method: School Test Scores\n",
    "Documentation: https://www.greatschools.org/api/docs/school-test-scores/\n",
    "\n",
    "    ie. https://api.greatschools.org/school/tests/CA/1?key=[yourkey]\n",
    "    Returns test scores for school in California with GreatSchools ID of 1"
   ]
  },
  {
   "cell_type": "code",
   "execution_count": 521,
   "metadata": {
    "scrolled": true
   },
   "outputs": [],
   "source": [
    "gsids = list(school_search['gsid'].astype(str))\n",
    "print 'Number of schools searched: ', len(gsids)\n",
    "\n",
    "test_score_responses = []\n",
    "count = 1\n",
    "for gsid in gsids:\n",
    "    URL = 'https://api.greatschools.org/school/tests/CA/'+ gsid + '?key=' + api_key\n",
    "    request = requests.get(URL)\n",
    "    response = BeautifulSoup(request.content, 'html.parser')\n",
    "    test_score_responses.append(response)\n",
    "#     print count\n",
    "#     count += 1"
   ]
  },
  {
   "cell_type": "code",
   "execution_count": 515,
   "metadata": {},
   "outputs": [],
   "source": [
    "ts_dict_1 = {'gsid':list(), 'name':list(), 'rating':list(), 'id':list(), 'description':list(), 'abbreviation':list(), \n",
    "             'scale':list(), 'levelcode':list()}\n",
    "ts_dict_2 = {'breakdownname':list(), 'gradename':list(), 'levelcodename':list(), 'numbertested':list(), \n",
    "             'proficiencybandname':list(), 'score':list(), 'subjectname':list(), 'testid':list(), 'year':list()}\n",
    "\n",
    "for g in range(len(test_score_responses)):\n",
    "    content = test_score_response.find_all('test')\n",
    "    for c in range(len(content)):    \n",
    "        results = content[c].find_all('testresult')\n",
    "        for r in range(len(results)):\n",
    "            for key in ts_dict_2.keys():\n",
    "                try:\n",
    "                    ts_dict_2.get(key).append(results[r].find(key).text)\n",
    "                except:\n",
    "                    ts_dict_2.get(key).append(None)\n",
    "        for k in ts_dict_1.keys():\n",
    "            if k == 'gsid':\n",
    "                ts_dict_1.get(k).extend([gsids[g]]*len(results))\n",
    "            else:\n",
    "                try:\n",
    "                    ts_dict_1.get(k).extend([content[c].find(k).text]*len(results))\n",
    "                except:\n",
    "                    ts_dict_1.get(k).extend([None]*len(results))"
   ]
  },
  {
   "cell_type": "code",
   "execution_count": 519,
   "metadata": {},
   "outputs": [
    {
     "name": "stdout",
     "output_type": "stream",
     "text": [
      "The shape of the data is:  (22321, 17)\n"
     ]
    }
   ],
   "source": [
    "ts_1 = pd.DataFrame.from_dict(ts_dict_1, orient='columns')\n",
    "ts_2 = pd.DataFrame.from_dict(ts_dict_2, orient='columns')\n",
    "test_scores = pd.concat([ts_1, ts_2], axis=1)\n",
    "print 'The shape of the data is: ', test_scores.shape"
   ]
  },
  {
   "cell_type": "markdown",
   "metadata": {},
   "source": [
    "### Export Data for Further Analysis"
   ]
  },
  {
   "cell_type": "code",
   "execution_count": 498,
   "metadata": {
    "collapsed": true
   },
   "outputs": [],
   "source": [
    "school_census_data.to_csv('school_census_data.csv', encoding='utf-8', index=False)"
   ]
  },
  {
   "cell_type": "code",
   "execution_count": 54,
   "metadata": {},
   "outputs": [],
   "source": [
    "school_search.to_csv('school_search.csv', encoding='utf-8', index=False)"
   ]
  },
  {
   "cell_type": "code",
   "execution_count": 308,
   "metadata": {
    "collapsed": true
   },
   "outputs": [],
   "source": [
    "city_overview.to_csv('city_overview.csv', encoding='utf-8', index=False)"
   ]
  },
  {
   "cell_type": "code",
   "execution_count": 520,
   "metadata": {
    "collapsed": true
   },
   "outputs": [],
   "source": [
    "test_scores.to_csv('test_scores.csv', encoding='utf-8', index=False)"
   ]
  },
  {
   "cell_type": "code",
   "execution_count": null,
   "metadata": {
    "collapsed": true
   },
   "outputs": [],
   "source": []
  }
 ],
 "metadata": {
  "anaconda-cloud": {},
  "kernelspec": {
   "display_name": "Python [conda env:py27]",
   "language": "python",
   "name": "conda-env-py27-py"
  },
  "language_info": {
   "codemirror_mode": {
    "name": "ipython",
    "version": 2
   },
   "file_extension": ".py",
   "mimetype": "text/x-python",
   "name": "python",
   "nbconvert_exporter": "python",
   "pygments_lexer": "ipython2",
   "version": "2.7.13"
  }
 },
 "nbformat": 4,
 "nbformat_minor": 1
}
